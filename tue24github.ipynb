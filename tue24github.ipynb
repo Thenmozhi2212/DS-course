{
  "nbformat": 4,
  "nbformat_minor": 0,
  "metadata": {
    "colab": {
      "provenance": [],
      "authorship_tag": "ABX9TyNOPRJzY74mKmx87hEUFu7V",
      "include_colab_link": true
    },
    "kernelspec": {
      "name": "python3",
      "display_name": "Python 3"
    },
    "language_info": {
      "name": "python"
    }
  },
  "cells": [
    {
      "cell_type": "markdown",
      "metadata": {
        "id": "view-in-github",
        "colab_type": "text"
      },
      "source": [
        "<a href=\"https://colab.research.google.com/github/Thenmozhi2212/DS-course/blob/main/tue24github.ipynb\" target=\"_parent\"><img src=\"https://colab.research.google.com/assets/colab-badge.svg\" alt=\"Open In Colab\"/></a>"
      ]
    },
    {
      "cell_type": "code",
      "execution_count": null,
      "metadata": {
        "colab": {
          "base_uri": "https://localhost:8080/"
        },
        "id": "_DgwKy6lnVmN",
        "outputId": "84fb917a-6bd4-4786-b986-d3811b8ef0ba"
      },
      "outputs": [
        {
          "output_type": "stream",
          "name": "stdout",
          "text": [
            "hello world\n"
          ]
        }
      ],
      "source": [
        "print(\"hello world\")"
      ]
    },
    {
      "cell_type": "code",
      "source": [
        "a=input()\n",
        "name=a.replace(' ','')\n",
        "len(name)\n",
        "name"
      ],
      "metadata": {
        "id": "J8-bl7UT6dYy",
        "outputId": "8ed64ba1-af43-4186-bf6d-bed513046de4",
        "colab": {
          "base_uri": "https://localhost:8080/",
          "height": 53
        }
      },
      "execution_count": 5,
      "outputs": [
        {
          "name": "stdout",
          "output_type": "stream",
          "text": [
            "thenmozhi senthil\n"
          ]
        },
        {
          "output_type": "execute_result",
          "data": {
            "text/plain": [
              "'thenmozhisenthil'"
            ],
            "application/vnd.google.colaboratory.intrinsic+json": {
              "type": "string"
            }
          },
          "metadata": {},
          "execution_count": 5
        }
      ]
    },
    {
      "cell_type": "code",
      "source": [
        "a=input()\n",
        "name=a.replace(' ','')\n",
        "name=a.strip()\n",
        "len(name)"
      ],
      "metadata": {
        "id": "NCaxoSxT7YH6",
        "outputId": "3de5021a-2d01-469e-a89f-f4dbc65dc136",
        "colab": {
          "base_uri": "https://localhost:8080/"
        }
      },
      "execution_count": 6,
      "outputs": [
        {
          "name": "stdout",
          "output_type": "stream",
          "text": [
            "thenmozhi senthil\n"
          ]
        },
        {
          "output_type": "execute_result",
          "data": {
            "text/plain": [
              "17"
            ]
          },
          "metadata": {},
          "execution_count": 6
        }
      ]
    },
    {
      "cell_type": "code",
      "source": [
        "def space(a):\n",
        "    b=\"\".join(a.split())\n",
        "    return len(b)\n",
        ""
      ],
      "metadata": {
        "id": "nKxgnLH98UNL"
      },
      "execution_count": null,
      "outputs": []
    }
  ]
}